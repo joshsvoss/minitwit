{
 "metadata": {
  "name": "",
  "signature": "sha256:b3cb7f4d6e384ba2af343c52d0d6178e1582ec6f35dd825e9602f6eb38f74435"
 },
 "nbformat": 3,
 "nbformat_minor": 0,
 "worksheets": [
  {
   "cells": [
    {
     "cell_type": "heading",
     "level": 1,
     "metadata": {},
     "source": [
      "The Python Programming Language"
     ]
    },
    {
     "cell_type": "markdown",
     "metadata": {},
     "source": [
      "Python is:\n",
      "\n",
      "   - strongly typed\n",
      "   - dynamically typed\n",
      "   - implicitly typed\n",
      "   - case sensitive\n",
      "   - whitespace sensitive\n",
      "   - object-oriented\n",
      "\n",
      "Python has two modes:\n",
      "\n",
      "  - Interactive mode\n",
      "  - Batch mode\n",
      "  "
     ]
    },
    {
     "cell_type": "heading",
     "level": 3,
     "metadata": {},
     "source": [
      "Getting help"
     ]
    },
    {
     "cell_type": "code",
     "collapsed": false,
     "input": [
      "help(1.0)"
     ],
     "language": "python",
     "metadata": {},
     "outputs": [
      {
       "output_type": "stream",
       "stream": "stdout",
       "text": [
        "Help on float object:\n",
        "\n",
        "class float(object)\n",
        " |  float(x) -> floating point number\n",
        " |  \n",
        " |  Convert a string or number to a floating point number, if possible.\n",
        " |  \n",
        " |  Methods defined here:\n",
        " |  \n",
        " |  __abs__(self, /)\n",
        " |      abs(self)\n",
        " |  \n",
        " |  __add__(self, value, /)\n",
        " |      Return self+value.\n",
        " |  \n",
        " |  __bool__(self, /)\n",
        " |      self != 0\n",
        " |  \n",
        " |  __divmod__(self, value, /)\n",
        " |      Return divmod(self, value).\n",
        " |  \n",
        " |  __eq__(self, value, /)\n",
        " |      Return self==value.\n",
        " |  \n",
        " |  __float__(self, /)\n",
        " |      float(self)\n",
        " |  \n",
        " |  __floordiv__(self, value, /)\n",
        " |      Return self//value.\n",
        " |  \n",
        " |  __format__(...)\n",
        " |      float.__format__(format_spec) -> string\n",
        " |      \n",
        " |      Formats the float according to format_spec.\n",
        " |  \n",
        " |  __ge__(...)\n",
        " |      __ge__=($self, value, /)\n",
        " |      --\n",
        " |      \n",
        " |      Return self>=value.\n",
        " |  \n",
        " |  __getattribute__(self, name, /)\n",
        " |      Return getattr(self, name).\n",
        " |  \n",
        " |  __getformat__(...) from builtins.type\n",
        " |      float.__getformat__(typestr) -> string\n",
        " |      \n",
        " |      You probably don't want to use this function.  It exists mainly to be\n",
        " |      used in Python's test suite.\n",
        " |      \n",
        " |      typestr must be 'double' or 'float'.  This function returns whichever of\n",
        " |      'unknown', 'IEEE, big-endian' or 'IEEE, little-endian' best describes the\n",
        " |      format of floating point numbers used by the C type named by typestr.\n",
        " |  \n",
        " |  __getnewargs__(...)\n",
        " |  \n",
        " |  __gt__(self, value, /)\n",
        " |      Return self>value.\n",
        " |  \n",
        " |  __hash__(self, /)\n",
        " |      Return hash(self).\n",
        " |  \n",
        " |  __int__(self, /)\n",
        " |      int(self)\n",
        " |  \n",
        " |  __le__(self, value, /)\n",
        " |      Return self<=value.\n",
        " |  \n",
        " |  __lt__(self, value, /)\n",
        " |      Return self<value.\n",
        " |  \n",
        " |  __mod__(self, value, /)\n",
        " |      Return self%value.\n",
        " |  \n",
        " |  __mul__(self, value, /)\n",
        " |      Return self*value.\n",
        " |  \n",
        " |  __ne__(self, value, /)\n",
        " |      Return self!=value.\n",
        " |  \n",
        " |  __neg__(self, /)\n",
        " |      -self\n",
        " |  \n",
        " |  __new__(*args, **kwargs) from builtins.type\n",
        " |      Create and return a new object.  See help(type) for accurate signature.\n",
        " |  \n",
        " |  __pos__(self, /)\n",
        " |      +self\n",
        " |  \n",
        " |  __pow__(self, value, mod=None, /)\n",
        " |      Return pow(self, value, mod).\n",
        " |  \n",
        " |  __radd__(self, value, /)\n",
        " |      Return value+self.\n",
        " |  \n",
        " |  __rdivmod__(self, value, /)\n",
        " |      Return divmod(value, self).\n",
        " |  \n",
        " |  __repr__(self, /)\n",
        " |      Return repr(self).\n",
        " |  \n",
        " |  __rfloordiv__(self, value, /)\n",
        " |      Return value//self.\n",
        " |  \n",
        " |  __rmod__(self, value, /)\n",
        " |      Return value%self.\n",
        " |  \n",
        " |  __rmul__(self, value, /)\n",
        " |      Return value*self.\n",
        " |  \n",
        " |  __round__(...)\n",
        " |      Return the Integral closest to x, rounding half toward even.\n",
        " |      When an argument is passed, work like built-in round(x, ndigits).\n",
        " |  \n",
        " |  __rpow__(self, value, mod=None, /)\n",
        " |      Return pow(value, self, mod).\n",
        " |  \n",
        " |  __rsub__(self, value, /)\n",
        " |      Return value-self.\n",
        " |  \n",
        " |  __rtruediv__(self, value, /)\n",
        " |      Return value/self.\n",
        " |  \n",
        " |  __setformat__(...) from builtins.type\n",
        " |      float.__setformat__(typestr, fmt) -> None\n",
        " |      \n",
        " |      You probably don't want to use this function.  It exists mainly to be\n",
        " |      used in Python's test suite.\n",
        " |      \n",
        " |      typestr must be 'double' or 'float'.  fmt must be one of 'unknown',\n",
        " |      'IEEE, big-endian' or 'IEEE, little-endian', and in addition can only be\n",
        " |      one of the latter two if it appears to match the underlying C reality.\n",
        " |      \n",
        " |      Override the automatic determination of C-level floating point type.\n",
        " |      This affects how floats are converted to and from binary strings.\n",
        " |  \n",
        " |  __str__(self, /)\n",
        " |      Return str(self).\n",
        " |  \n",
        " |  __sub__(self, value, /)\n",
        " |      Return self-value.\n",
        " |  \n",
        " |  __truediv__(self, value, /)\n",
        " |      Return self/value.\n",
        " |  \n",
        " |  __trunc__(...)\n",
        " |      Return the Integral closest to x between 0 and x.\n",
        " |  \n",
        " |  as_integer_ratio(...)\n",
        " |      float.as_integer_ratio() -> (int, int)\n",
        " |      \n",
        " |      Return a pair of integers, whose ratio is exactly equal to the original\n",
        " |      float and with a positive denominator.\n",
        " |      Raise OverflowError on infinities and a ValueError on NaNs.\n",
        " |      \n",
        " |      >>> (10.0).as_integer_ratio()\n",
        " |      (10, 1)\n",
        " |      >>> (0.0).as_integer_ratio()\n",
        " |      (0, 1)\n",
        " |      >>> (-.25).as_integer_ratio()\n",
        " |      (-1, 4)\n",
        " |  \n",
        " |  conjugate(...)\n",
        " |      Return self, the complex conjugate of any float.\n",
        " |  \n",
        " |  fromhex(...) from builtins.type\n",
        " |      float.fromhex(string) -> float\n",
        " |      \n",
        " |      Create a floating-point number from a hexadecimal string.\n",
        " |      >>> float.fromhex('0x1.ffffp10')\n",
        " |      2047.984375\n",
        " |      >>> float.fromhex('-0x1p-1074')\n",
        " |      -5e-324\n",
        " |  \n",
        " |  hex(...)\n",
        " |      float.hex() -> string\n",
        " |      \n",
        " |      Return a hexadecimal representation of a floating-point number.\n",
        " |      >>> (-0.1).hex()\n",
        " |      '-0x1.999999999999ap-4'\n",
        " |      >>> 3.14159.hex()\n",
        " |      '0x1.921f9f01b866ep+1'\n",
        " |  \n",
        " |  is_integer(...)\n",
        " |      Return True if the float is an integer.\n",
        " |  \n",
        " |  ----------------------------------------------------------------------\n",
        " |  Data descriptors defined here:\n",
        " |  \n",
        " |  imag\n",
        " |      the imaginary part of a complex number\n",
        " |  \n",
        " |  real\n",
        " |      the real part of a complex number\n",
        "\n"
       ]
      }
     ],
     "prompt_number": 1
    },
    {
     "cell_type": "code",
     "collapsed": false,
     "input": [
      "dir(1.0)"
     ],
     "language": "python",
     "metadata": {},
     "outputs": [
      {
       "metadata": {},
       "output_type": "pyout",
       "prompt_number": 2,
       "text": [
        "['__abs__',\n",
        " '__add__',\n",
        " '__bool__',\n",
        " '__class__',\n",
        " '__delattr__',\n",
        " '__dir__',\n",
        " '__divmod__',\n",
        " '__doc__',\n",
        " '__eq__',\n",
        " '__float__',\n",
        " '__floordiv__',\n",
        " '__format__',\n",
        " '__ge__',\n",
        " '__getattribute__',\n",
        " '__getformat__',\n",
        " '__getnewargs__',\n",
        " '__gt__',\n",
        " '__hash__',\n",
        " '__init__',\n",
        " '__int__',\n",
        " '__le__',\n",
        " '__lt__',\n",
        " '__mod__',\n",
        " '__mul__',\n",
        " '__ne__',\n",
        " '__neg__',\n",
        " '__new__',\n",
        " '__pos__',\n",
        " '__pow__',\n",
        " '__radd__',\n",
        " '__rdivmod__',\n",
        " '__reduce__',\n",
        " '__reduce_ex__',\n",
        " '__repr__',\n",
        " '__rfloordiv__',\n",
        " '__rmod__',\n",
        " '__rmul__',\n",
        " '__round__',\n",
        " '__rpow__',\n",
        " '__rsub__',\n",
        " '__rtruediv__',\n",
        " '__setattr__',\n",
        " '__setformat__',\n",
        " '__sizeof__',\n",
        " '__str__',\n",
        " '__sub__',\n",
        " '__subclasshook__',\n",
        " '__truediv__',\n",
        " '__trunc__',\n",
        " 'as_integer_ratio',\n",
        " 'conjugate',\n",
        " 'fromhex',\n",
        " 'hex',\n",
        " 'imag',\n",
        " 'is_integer',\n",
        " 'real']"
       ]
      }
     ],
     "prompt_number": 2
    },
    {
     "cell_type": "heading",
     "level": 3,
     "metadata": {},
     "source": [
      "Syntax"
     ]
    },
    {
     "cell_type": "markdown",
     "metadata": {},
     "source": [
      "- Blocks are specified by indentation\n",
      "- Statements that preceed an indentation level end with :\n",
      "- Comments start with #"
     ]
    },
    {
     "cell_type": "heading",
     "level": 3,
     "metadata": {},
     "source": [
      "Variables and Assignment"
     ]
    },
    {
     "cell_type": "code",
     "collapsed": false,
     "input": [
      "x = 2\n",
      "y = 1\n",
      "pi = 3.14\n",
      "\n",
      "x ** y / pi"
     ],
     "language": "python",
     "metadata": {},
     "outputs": [
      {
       "metadata": {},
       "output_type": "pyout",
       "prompt_number": 3,
       "text": [
        "0.6369426751592356"
       ]
      }
     ],
     "prompt_number": 3
    },
    {
     "cell_type": "code",
     "collapsed": false,
     "input": [
      "2 ** 1 / 3.14"
     ],
     "language": "python",
     "metadata": {},
     "outputs": [
      {
       "metadata": {},
       "output_type": "pyout",
       "prompt_number": 4,
       "text": [
        "0.6369426751592356"
       ]
      }
     ],
     "prompt_number": 4
    },
    {
     "cell_type": "heading",
     "level": 3,
     "metadata": {},
     "source": [
      "Data Types"
     ]
    },
    {
     "cell_type": "markdown",
     "metadata": {},
     "source": [
      "\n",
      "- Scalars: Primitive data types with one value\n",
      "\n",
      "  - int\n",
      "  - float\n",
      "  - bool\n",
      "  - str\n",
      "  \n",
      "\n",
      "- Sequences: Groups of data\n",
      "\n",
      "  - list\n",
      "  - dict\n",
      "  - set\n",
      "  - tuple"
     ]
    },
    {
     "cell_type": "code",
     "collapsed": false,
     "input": [
      "print(1, 2.0, True, False, \"Hello\")"
     ],
     "language": "python",
     "metadata": {},
     "outputs": [
      {
       "output_type": "stream",
       "stream": "stdout",
       "text": [
        "1 2.0 True False Hello\n"
       ]
      }
     ],
     "prompt_number": 5
    },
    {
     "cell_type": "code",
     "collapsed": false,
     "input": [
      "print(\"List:\", [1, 3, 3, 2, \"abc\"])\n",
      "print(\"Set:\", {1, 3, 3, 2, \"abc\"})\n",
      "print(\"Dictionary:\", {'a': 1, 'b': 2, 'c': 3})\n",
      "print(\"Tuple:\", ('a', 'b', 'c')) "
     ],
     "language": "python",
     "metadata": {},
     "outputs": [
      {
       "output_type": "stream",
       "stream": "stdout",
       "text": [
        "List: [1, 3, 3, 2, 'abc']\n",
        "Set: {1, 2, 'abc', 3}\n",
        "Dictionary: {'a': 1, 'c': 3, 'b': 2}\n",
        "Tuple: ('a', 'b', 'c')\n"
       ]
      }
     ],
     "prompt_number": 6
    },
    {
     "cell_type": "heading",
     "level": 3,
     "metadata": {},
     "source": [
      "Control Statements"
     ]
    },
    {
     "cell_type": "code",
     "collapsed": false,
     "input": [
      "import random\n",
      "n = random.randint(2, 100)\n",
      "\n",
      "seq = [n]\n",
      "while seq[-1] > 1:\n",
      "    if n % 2 == 0:\n",
      "        seq.append(n // 2)\n",
      "    else:\n",
      "        seq.append(3 * n + 1)\n",
      "    n = seq[-1]\n",
      "\n",
      "print(seq)"
     ],
     "language": "python",
     "metadata": {},
     "outputs": [
      {
       "output_type": "stream",
       "stream": "stdout",
       "text": [
        "[46, 23, 70, 35, 106, 53, 160, 80, 40, 20, 10, 5, 16, 8, 4, 2, 1]\n"
       ]
      }
     ],
     "prompt_number": 7
    },
    {
     "cell_type": "code",
     "collapsed": false,
     "input": [
      "primes = [2, 3, 5, 7, 11, 13, 17, 19, 23, 29, \n",
      "          31, 37, 41, 43, 47, 53, 59, 61, 67,\n",
      "          71, 73, 79, 83, 89, 97]\n",
      "\n",
      "for s in seq:\n",
      "    if s in primes:\n",
      "        print(s, \"is a prime number.\")\n",
      "    elif s % 2 == 0:\n",
      "        print(s, \"is even.\")\n",
      "    else:\n",
      "        print(s, \"is odd.\")"
     ],
     "language": "python",
     "metadata": {},
     "outputs": [
      {
       "output_type": "stream",
       "stream": "stdout",
       "text": [
        "46 is even.\n",
        "23 is a prime number.\n",
        "70 is even.\n",
        "35 is odd.\n",
        "106 is even.\n",
        "53 is a prime number.\n",
        "160 is even.\n",
        "80 is even.\n",
        "40 is even.\n",
        "20 is even.\n",
        "10 is even.\n",
        "5 is a prime number.\n",
        "16 is even.\n",
        "8 is even.\n",
        "4 is even.\n",
        "2 is a prime number.\n",
        "1 is odd.\n"
       ]
      }
     ],
     "prompt_number": 8
    },
    {
     "cell_type": "heading",
     "level": 3,
     "metadata": {},
     "source": [
      "Functions"
     ]
    },
    {
     "cell_type": "code",
     "collapsed": false,
     "input": [
      "def fib(n):\n",
      "    \"\"\"Print a Fibonacci series up to n.\"\"\"\n",
      "    a, b = 0, 1\n",
      "    while b < n:\n",
      "        a, b = b, a+b\n",
      "    return b\n",
      " \n",
      "fib(200)"
     ],
     "language": "python",
     "metadata": {},
     "outputs": [
      {
       "metadata": {},
       "output_type": "pyout",
       "prompt_number": 9,
       "text": [
        "233"
       ]
      }
     ],
     "prompt_number": 9
    },
    {
     "cell_type": "heading",
     "level": 2,
     "metadata": {},
     "source": [
      "An Exercise"
     ]
    },
    {
     "cell_type": "markdown",
     "metadata": {},
     "source": [
      "1 - **Write a function that returns the mean of a list of numbers**\n",
      "\n",
      "2 - **Write a function that returns the minimum value in a list of numbers**\n",
      "\n",
      "3 - **Write a function that returns a histogram of element frequencies givesn a sequence**"
     ]
    },
    {
     "cell_type": "heading",
     "level": 3,
     "metadata": {},
     "source": [
      "Classes"
     ]
    },
    {
     "cell_type": "code",
     "collapsed": false,
     "input": [
      "class BinaryTree(object):\n",
      "    def __init__(self, value, left_tree, right_tree):\n",
      "        self.value = value\n",
      "        self.left = left_tree\n",
      "        self.right = right_tree\n",
      "        \n",
      "    def is_leaf(self):\n",
      "        return self.left is None and self.right is None\n",
      "    \n",
      "    def depth(self):\n",
      "        if self.is_leaf():\n",
      "            return 1\n",
      "        else:\n",
      "            return max([1 + self.left.depth(), 1 + self.right.depth()])\n",
      "    "
     ],
     "language": "python",
     "metadata": {},
     "outputs": [],
     "prompt_number": 10
    },
    {
     "cell_type": "heading",
     "level": 3,
     "metadata": {},
     "source": [
      "Exceptions"
     ]
    },
    {
     "cell_type": "code",
     "collapsed": false,
     "input": [
      "try:\n",
      "    print(\"This might go wrong...\")\n",
      "    1 / 0\n",
      "except Exception as e:\n",
      "    print(\"That went wrong.\", e)\n",
      "finally:\n",
      "    print(\"This always executes\")"
     ],
     "language": "python",
     "metadata": {},
     "outputs": [
      {
       "output_type": "stream",
       "stream": "stdout",
       "text": [
        "This might go wrong...\n",
        "That went wrong. division by zero\n",
        "This always executes\n"
       ]
      }
     ],
     "prompt_number": 11
    },
    {
     "cell_type": "heading",
     "level": 2,
     "metadata": {},
     "source": [
      "An Exercise"
     ]
    },
    {
     "cell_type": "markdown",
     "metadata": {},
     "source": [
      "**Create classes for a Stack and a Queue**\n",
      "\n",
      "Stacks have the following operations:\n",
      "  \n",
      "  - push(new_item)\n",
      "    Adds an item onto the stack.\n",
      "  - top()\n",
      "    Returns the last item pushed onto the stack.\n",
      "  - pop()\n",
      "    Removes the most-recently-pushed item from the stack.\n",
      "  - is_empty()\n",
      "    True if no more items can be popped and there is no top item.\n",
      "  - is_full()\n",
      "    True if no more items can be pushed.\n",
      "  - get-size()\n",
      "    Returns the number of elements on the stack.\n",
      "\n",
      "Queues have the following operations:\n",
      "\n",
      "  - enqueue(new_item)\n",
      "    Adds an item onto the end of the queue.\n",
      "  - front()\n",
      "    Returns the item at the front of the queue.\n",
      "  - dequeue()\n",
      "    Removes the item from the front of the queue.\n",
      "  - is_empty()\n",
      "    True if no more items can be dequeued and there is no front item.\n",
      "  - is_full()\n",
      "    True if no more items can be enqueued.\n",
      "  - get_size()\n",
      "    Returns the number of elements in the queue.\n",
      "    \n",
      "The maximum size of each structure is 1000 elements.  It should throw an exception if you try to put on a 1001th element.\n",
      "\n",
      "Extra credit:\n",
      "\n",
      "  - Make the stack or queue take a type and enforce it on it's elements\n",
      "  \n",
      "Still too easy?\n",
      "\n",
      "  - Make a directed, weighted graph\n",
      "  - adjacent(x, y)\n",
      "    tests whether there is an edge from node x to node y.\n",
      "  - neighbors(x)\n",
      "    lists all nodes y such that there is an edge from x to y.\n",
      "  - add(x, y)\n",
      "    adds to G the edge from x to y, if it is not there.\n",
      "  - delete(x, y)\n",
      "    removes the edge from x to y, if it is there.\n",
      "  - get_node_value(x)\n",
      "    returns the value associated with the node x.\n",
      "  - set_node_value(x, a)\n",
      "    sets the value associated with the node x to a."
     ]
    },
    {
     "cell_type": "heading",
     "level": 1,
     "metadata": {},
     "source": [
      "Creating a web app on Heroku"
     ]
    },
    {
     "cell_type": "markdown",
     "metadata": {},
     "source": [
      "Sign up for an account                                               https://id.heroku.com/signup/www-home-top \n",
      "\n",
      "Install the Heroku Toolbelt                                          https://toolbelt.heroku.com/\n",
      "\n",
      "This gives us access to the Heroku command-line client, Foreman, and Git.  "
     ]
    },
    {
     "cell_type": "markdown",
     "metadata": {},
     "source": [
      "$ heroku login  \n",
      "\n",
      "$ git clone https://github.com/jdowns/minitwit.git \t    "
     ]
    },
    {
     "cell_type": "markdown",
     "metadata": {},
     "source": [
      "\n",
      "\n",
      "$ heroku create\n",
      "\n",
      "$ git push heroku master\n",
      "\n",
      "$ heroku ps:scale web=1\n",
      "\n",
      "$ heroku addons:add heroku-postgresql:dev\n",
      "\n",
      "$ heroku ps\n",
      "\n",
      "$ git commit -a -m \"added DB boilerplate\"\n",
      "\n",
      "$ git push heroku master\n",
      "\n",
      "$ heroku open\n"
     ]
    },
    {
     "cell_type": "markdown",
     "metadata": {},
     "source": [
      "**Set up the database**\n",
      "\n",
      "$ heroku run python\n",
      "\n",
      "\\>>> from app import db\n",
      "\n",
      "\\>>> db.create_all()"
     ]
    },
    {
     "cell_type": "markdown",
     "metadata": {},
     "source": [
      "\n",
      "\n",
      "** To start the application locally**\n",
      "\n",
      "$ virtualenv --no-site-packages --python=\\`which python3\\` env\n",
      "\n",
      "$ source venv/bin/activate\t\t\t\t\t\t\t\t\t\t\t\t \n",
      "\n",
      "$ pip install -r requirements.txt\t\t\t\t\t\t\t\t\t\n",
      "\n",
      "$ foreman start"
     ]
    },
    {
     "cell_type": "heading",
     "level": 1,
     "metadata": {},
     "source": [
      "MiniTwit"
     ]
    },
    {
     "cell_type": "code",
     "collapsed": false,
     "input": [],
     "language": "python",
     "metadata": {},
     "outputs": []
    }
   ],
   "metadata": {}
  }
 ]
}